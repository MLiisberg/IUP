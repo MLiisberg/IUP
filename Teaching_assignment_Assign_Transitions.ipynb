import numpy as np
import matplotlib.pyplot as plt

Initial_state = 'D4' #@param ["F6", "F5", "F4","F3","F2","F1","F0","D4"]
Final_state = 'F2' #@param ["F6", "F5", "F4","F3","F2","F1","F0","D4"]

transition_dict = dict({'F6' : 0,
                        'F5' : 2029,
                        'F4' : 3275,
                        'F3' : 4325,
                        'F2' : 5035,
                        'F1' : 5516,
                        'F0' : 5800,
                        'D4' : 20498})


Initial_state_value = transition_dict[Initial_state]
Final_state_value = transition_dict[Final_state]

difference_cm = Initial_state_value - Final_state_value
difference_nm = 10**7/difference_cm

print(f'There are {difference_cm} cm^-1 between {Initial_state} and {Final_state}.')
print(f'This corresponds to {np.round(difference_nm,0)} nm.\n\n')


x = np.linspace(300,900,1000)
b = difference_nm
a = 1
c = 10
f1 = a * np.exp(-(x-b)**2/(2*c**2))
plt.figure(figsize = [10,5])
plt.plot([b, b],[0, 2], '--', color = [0.8, 0.8, 0.8])
plt.plot(x,f1, linewidth = 3, color = [0.6,0.6,0.6])
plt.xlabel('Wavelength/nm')
plt.ylabel('Intensity/A.U.')
plt.xlim([450,650])
plt.ylim([-0.005,1.02])
plt.show()
