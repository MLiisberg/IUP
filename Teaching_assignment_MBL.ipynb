{
 "cells": [
  {
   "cell_type": "code",
   "execution_count": 10,
   "metadata": {
    "hideCode": true,
    "hidePrompt": true
   },
   "outputs": [],
   "source": [
    "import numpy as np\n",
    "import matplotlib.pyplot as plt\n",
    "import ipywidgets as widgets\n",
    "from IPython.display import Javascript, display"
   ]
  },
  {
   "cell_type": "code",
   "execution_count": 39,
   "metadata": {
    "hideCode": true,
    "hidePrompt": true
   },
   "outputs": [],
   "source": [
    "Initial_state = widgets.Dropdown(\n",
    "                options=[('F5',2029), ('F4',3275),('F3',4325),('F2',5035),('F1',5516),('F0',5800),('D4',20498)],\n",
    "                description='Initial_state:',\n",
    "                )\n",
    "Final_state = widgets.Dropdown(\n",
    "                options=[('F6',0), ('F5',2029), ('F4',3275),('F3',4325),('F2',5035),('F1',5516),('F0',5800),('D4',20498)],\n",
    "                description='Final_state:',\n",
    "                )\n",
    "\n",
    "def run_all(ev):\n",
    "    display(Javascript('IPython.notebook.execute_cells_below()'))\n",
    "\n",
    "button = widgets.Button(description=\"Calculate energy difference and find spectral position\",\n",
    "                       layout=widgets.Layout(width='350px', height='30px'))\n",
    "button.on_click(run_all)"
   ]
  },
  {
   "cell_type": "markdown",
   "metadata": {
    "hideCode": false,
    "hidePrompt": false
   },
   "source": [
    "The following code can be used to calculate the energy difference between two electronic states of terbium$^{3+}$, which can help in interpreting a spectrum and assigning the correct transitions. Use the drag and drop menu to select an initial state (e.g. F0) and a final state (e.g. F6), which corresponds to the transition F$_0$ $\\rightarrow$ F$_6$. Press the button that says 'Calculate energy difference and find spectral position' underneath to run the code. This calculates the energy difference between the two states, and a figure displaying the spectral position is displayed. "
   ]
  },
  {
   "cell_type": "code",
   "execution_count": 51,
   "metadata": {
    "hideCode": false,
    "hidePrompt": false,
    "scrolled": true
   },
   "outputs": [
    {
     "data": {
      "application/javascript": [
       "IPython.notebook.execute_cells_below()"
      ],
      "text/plain": [
       "<IPython.core.display.Javascript object>"
      ]
     },
     "metadata": {},
     "output_type": "display_data"
    },
    {
     "data": {
      "application/vnd.jupyter.widget-view+json": {
       "model_id": "63155b04c7dd4c508fdef177b6d60d07",
       "version_major": 2,
       "version_minor": 0
      },
      "text/plain": [
       "Dropdown(description='Initial_state:', index=6, options=(('F5', 2029), ('F4', 3275), ('F3', 4325), ('F2', 5035…"
      ]
     },
     "metadata": {},
     "output_type": "display_data"
    },
    {
     "data": {
      "application/vnd.jupyter.widget-view+json": {
       "model_id": "82da3e18dfa949ee86b1762f272f4388",
       "version_major": 2,
       "version_minor": 0
      },
      "text/plain": [
       "Dropdown(description='Final_state:', options=(('F6', 0), ('F5', 2029), ('F4', 3275), ('F3', 4325), ('F2', 5035…"
      ]
     },
     "metadata": {},
     "output_type": "display_data"
    },
    {
     "data": {
      "application/vnd.jupyter.widget-view+json": {
       "model_id": "605071e0a8b94f929a4a73e4574aca53",
       "version_major": 2,
       "version_minor": 0
      },
      "text/plain": [
       "Button(description='Calculate energy difference and find spectral position', layout=Layout(height='30px', widt…"
      ]
     },
     "metadata": {},
     "output_type": "display_data"
    }
   ],
   "source": [
    "display(Initial_state)\n",
    "display(Final_state)\n",
    "display(button)"
   ]
  },
  {
   "cell_type": "code",
   "execution_count": 52,
   "metadata": {
    "hideCode": true,
    "hideOutput": false,
    "hidePrompt": true
   },
   "outputs": [
    {
     "name": "stdout",
     "output_type": "stream",
     "text": [
      "There are 20498 cm^-1 between D4 and F6.\n",
      "This corresponds to 488.0 nm.\n",
      "\n",
      "\n"
     ]
    },
    {
     "data": {
      "image/png": "[encoded data removed]",
      "text/plain": [
       "<Figure size 720x360 with 1 Axes>"
      ]
     },
     "metadata": {
      "needs_background": "light"
     },
     "output_type": "display_data"
    }
   ],
   "source": [
    "difference_cm = Initial_state.value - Final_state.value\n",
    "difference_nm = 10**7/difference_cm\n",
    "\n",
    "print(f'There are {difference_cm} cm^-1 between {Initial_state.label} and {Final_state.label}.')\n",
    "print(f'This corresponds to {np.round(difference_nm,0)} nm.\\n\\n')\n",
    "\n",
    "\n",
    "x = np.linspace(300,900,1000)\n",
    "b = difference_nm\n",
    "a = 1\n",
    "c = 10\n",
    "f1 = a * np.exp(-(x-b)**2/(2*c**2))\n",
    "plt.figure(figsize = [10,5])\n",
    "plt.plot([b, b],[0, 2], '--', color = [0.8, 0.8, 0.8])\n",
    "plt.plot(x,f1, linewidth = 3, color = [0.6,0.6,0.6])\n",
    "plt.xlabel('Wavelength/nm')\n",
    "plt.ylabel('Intensity/A.U.')\n",
    "plt.xlim([450,650])\n",
    "plt.ylim([-0.005,1.02])\n",
    "plt.show()"
   ]
  }
 ],
 "metadata": {
  "hide_code_all_hidden": false,
  "kernelspec": {
   "display_name": "Python 3",
   "language": "python",
   "name": "python3"
  },
  "language_info": {
   "codemirror_mode": {
    "name": "ipython",
    "version": 3
   },
   "file_extension": ".py",
   "mimetype": "text/x-python",
   "name": "python",
   "nbconvert_exporter": "python",
   "pygments_lexer": "ipython3",
   "version": "3.7.6"
  }
 },
 "nbformat": 4,
 "nbformat_minor": 4
}
